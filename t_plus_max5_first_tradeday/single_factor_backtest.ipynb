{
 "cells": [
  {
   "cell_type": "code",
   "execution_count": 1,
   "id": "834685bd",
   "metadata": {},
   "outputs": [],
   "source": [
    "import pandas as pd\n",
    "import numpy as np\n",
    "import os\n",
    "from backtest import *"
   ]
  },
  {
   "cell_type": "markdown",
   "id": "45f85741",
   "metadata": {},
   "source": [
    "# 生成股票池\n",
    "    - 流動性:"
   ]
  },
  {
   "cell_type": "code",
   "execution_count": 2,
   "id": "d8c58841",
   "metadata": {},
   "outputs": [],
   "source": [
    "adj_price = pd.read_feather('C:\\\\Users\\\\YogaHu\\\\Desktop\\\\database\\\\adj_daily_TWSE_TPEX.ftr')\n",
    "adj_price = adj_price[adj_price['trade_date']>=pd.to_datetime('20180101')]\n",
    "adj_price.rename(columns={\n",
    "    'trade_date': 'datetime'\n",
    "}, inplace=True)\n",
    "adj_price = adj_price[['datetime', 'asset', 'amount']]\n",
    "amount_ma20 = adj_price.set_index(['datetime']).groupby('asset')['amount'].rolling(20).mean().reset_index()"
   ]
  },
  {
   "cell_type": "code",
   "execution_count": 3,
   "id": "d39041a4",
   "metadata": {},
   "outputs": [],
   "source": [
    "# liquidity: 1000w\n",
    "liqiuid_cond = 1000 * 10000\n",
    "amount_ma20 = amount_ma20[amount_ma20['amount']>=liqiuid_cond]\n",
    "amount_ma20 = amount_ma20.set_index(['datetime', 'asset'])\n",
    "amount_ma20 = amount_ma20.sort_index()\n",
    "amount_ma20.columns = ['amount_ma20']"
   ]
  },
  {
   "cell_type": "code",
   "execution_count": 4,
   "id": "66c97ee7",
   "metadata": {},
   "outputs": [],
   "source": [
    "# 1. 流動性條件\n",
    "asset_pool = amount_ma20"
   ]
  },
  {
   "cell_type": "markdown",
   "id": "38f92779",
   "metadata": {},
   "source": [
    "# backtest"
   ]
  },
  {
   "cell_type": "code",
   "execution_count": 5,
   "id": "79c72ea4",
   "metadata": {},
   "outputs": [],
   "source": [
    "ROOT = 'C:\\\\Users\\\\YogaHu\\\\Desktop\\\\DC'\n",
    "DATA_ROOT = os.path.join(ROOT, '02data')\n",
    "data = pd.read_pickle(os.path.join(DATA_ROOT, 't_plus_max5_first_tradeday_adj_price.pkl'))\n",
    "industry = pd.read_csv(os.path.join(DATA_ROOT, \"common_data\", \"industry_twse_tpex.csv\"))\n",
    "industry['asset'] = industry['asset'].astype(str)\n",
    "factors = pd.read_pickle(\"sample.pkl\")\n",
    "\n",
    "f = 'mid_sub_small_ratio_share_diff4w'\n",
    "prediction = factors[f].copy()\n",
    "prediction.name = 'pred'"
   ]
  },
  {
   "cell_type": "markdown",
   "id": "36a51660",
   "metadata": {},
   "source": [
    "## 生成持倉: \n",
    "\n",
    "    constraint: \n",
    "    - 持倉價位限制 (股票池)\n",
    "    - 取每周rank排名最前面的一群\n",
    "    - 排除開盤漲停股票 (不能買進)\n",
    "    - 取得每周預期持倉張數\n",
    "    - 在開盤調倉\n",
    "    - 取得上周持倉預期持倉 (回測用，第一周的上週持倉為0)    \n",
    "    - 取得下周持倉預期持倉 (回測用，最後一周持倉假設全出, 為0)"
   ]
  },
  {
   "cell_type": "code",
   "execution_count": 7,
   "id": "b24ca734",
   "metadata": {},
   "outputs": [
    {
     "name": "stdout",
     "output_type": "stream",
     "text": [
      "最大持倉金額: 5000000\n",
      "每倉最大權重: 0.04\n",
      "每周持倉數: 25\n",
      "最大持倉金額: 200000.0\n"
     ]
    }
   ],
   "source": [
    "# 簡略條件\n",
    "capital = 500*10000\n",
    "max_w = 0.04\n",
    "\n",
    "holdings = get_holdings(prediction=prediction, data=data, industry=industry,\n",
    "                        asset_pool=asset_pool, capital=capital, max_w=max_w)"
   ]
  },
  {
   "cell_type": "markdown",
   "id": "992eabc5",
   "metadata": {},
   "source": [
    "# 回測\n",
    "    交易成本計算方法:\n",
    "    1. 手續費率: 買進與賣出皆需要收取 (0.001425 * 折數)\n",
    "    2. 證交稅率: 賣出收取 (0.003) \n",
    "    3. 融資費率: 以年利息6%計算 (年息轉換成周息(年息/52)，以6成金額計算融資)\n",
    "    \n",
    "    計算交易成本分成三部分:\n",
    "    1. 新增的倉位 (成本: 手續費率(買進))\n",
    "    2. 需換倉的倉位 (成本: 手續費率(賣出)+證交稅率+融資費率)\n",
    "    3. 無須換倉的倉位 (成本: 無，假設新增的倉位與需換倉的倉位才支付買進手續費)"
   ]
  },
  {
   "cell_type": "code",
   "execution_count": 8,
   "id": "7c9366c0",
   "metadata": {},
   "outputs": [
    {
     "name": "stdout",
     "output_type": "stream",
     "text": [
      "       Market_Value   Gross_Profit    fee_rate      return\n",
      "count  1.930000e+02     193.000000  193.000000  193.000000\n",
      "mean   4.095292e+06   34541.607330    0.002066    0.008499\n",
      "std    2.235028e+05  179436.710024    0.000594    0.043314\n",
      "min    3.460000e+06 -863329.010332    0.000106   -0.218891\n",
      "25%    3.971100e+06  -50581.229952    0.001852   -0.012240\n",
      "50%    4.116850e+06   48957.386351    0.002094    0.011517\n",
      "75%    4.240400e+06  123592.286785    0.002393    0.031597\n",
      "max    4.573650e+06  520149.753177    0.004147    0.125900\n"
     ]
    },
    {
     "data": {
      "text/html": [
       "<div>\n",
       "<style scoped>\n",
       "    .dataframe tbody tr th:only-of-type {\n",
       "        vertical-align: middle;\n",
       "    }\n",
       "\n",
       "    .dataframe tbody tr th {\n",
       "        vertical-align: top;\n",
       "    }\n",
       "\n",
       "    .dataframe thead th {\n",
       "        text-align: right;\n",
       "    }\n",
       "</style>\n",
       "<table border=\"1\" class=\"dataframe\">\n",
       "  <thead>\n",
       "    <tr style=\"text-align: right;\">\n",
       "      <th></th>\n",
       "      <th>單利</th>\n",
       "      <th>複利</th>\n",
       "    </tr>\n",
       "  </thead>\n",
       "  <tbody>\n",
       "    <tr>\n",
       "      <th>年化收益</th>\n",
       "      <td>0.441954</td>\n",
       "      <td>0.477639</td>\n",
       "    </tr>\n",
       "    <tr>\n",
       "      <th>累计收益</th>\n",
       "      <td>1.640328</td>\n",
       "      <td>3.259511</td>\n",
       "    </tr>\n",
       "    <tr>\n",
       "      <th>最大回撤</th>\n",
       "      <td>0.290084</td>\n",
       "      <td>0.290666</td>\n",
       "    </tr>\n",
       "    <tr>\n",
       "      <th>夏普(r=4%)</th>\n",
       "      <td>1.290241</td>\n",
       "      <td>1.404789</td>\n",
       "    </tr>\n",
       "    <tr>\n",
       "      <th>波动率</th>\n",
       "      <td>0.311534</td>\n",
       "      <td>0.311534</td>\n",
       "    </tr>\n",
       "    <tr>\n",
       "      <th>總交易周</th>\n",
       "      <td>193.000000</td>\n",
       "      <td>193.000000</td>\n",
       "    </tr>\n",
       "    <tr>\n",
       "      <th>凈獲利交易周</th>\n",
       "      <td>121.000000</td>\n",
       "      <td>121.000000</td>\n",
       "    </tr>\n",
       "    <tr>\n",
       "      <th>凈虧損交易周</th>\n",
       "      <td>72.000000</td>\n",
       "      <td>72.000000</td>\n",
       "    </tr>\n",
       "    <tr>\n",
       "      <th>勝率</th>\n",
       "      <td>0.626943</td>\n",
       "      <td>0.626943</td>\n",
       "    </tr>\n",
       "    <tr>\n",
       "      <th>周均凈收益</th>\n",
       "      <td>0.008499</td>\n",
       "      <td>0.016889</td>\n",
       "    </tr>\n",
       "    <tr>\n",
       "      <th>周均凈獲利</th>\n",
       "      <td>0.020431</td>\n",
       "      <td>0.052225</td>\n",
       "    </tr>\n",
       "    <tr>\n",
       "      <th>周均凈虧損</th>\n",
       "      <td>-0.011932</td>\n",
       "      <td>-0.035404</td>\n",
       "    </tr>\n",
       "    <tr>\n",
       "      <th>總盈虧比</th>\n",
       "      <td>1.712310</td>\n",
       "      <td>1.475149</td>\n",
       "    </tr>\n",
       "    <tr>\n",
       "      <th>單周最大交易凈獲利</th>\n",
       "      <td>0.125900</td>\n",
       "      <td>0.125900</td>\n",
       "    </tr>\n",
       "    <tr>\n",
       "      <th>單周最大交易凈虧損</th>\n",
       "      <td>-0.218891</td>\n",
       "      <td>-0.218891</td>\n",
       "    </tr>\n",
       "    <tr>\n",
       "      <th>卡爾瑪</th>\n",
       "      <td>1.385647</td>\n",
       "      <td>1.505641</td>\n",
       "    </tr>\n",
       "    <tr>\n",
       "      <th>年化收益/平均回撤</th>\n",
       "      <td>8.060546</td>\n",
       "      <td>2.935929</td>\n",
       "    </tr>\n",
       "  </tbody>\n",
       "</table>\n",
       "</div>"
      ],
      "text/plain": [
       "                   單利          複利\n",
       "年化收益         0.441954    0.477639\n",
       "累计收益         1.640328    3.259511\n",
       "最大回撤         0.290084    0.290666\n",
       "夏普(r=4%)     1.290241    1.404789\n",
       "波动率          0.311534    0.311534\n",
       "總交易周       193.000000  193.000000\n",
       "凈獲利交易周     121.000000  121.000000\n",
       "凈虧損交易周      72.000000   72.000000\n",
       "勝率           0.626943    0.626943\n",
       "周均凈收益        0.008499    0.016889\n",
       "周均凈獲利        0.020431    0.052225\n",
       "周均凈虧損       -0.011932   -0.035404\n",
       "總盈虧比         1.712310    1.475149\n",
       "單周最大交易凈獲利    0.125900    0.125900\n",
       "單周最大交易凈虧損   -0.218891   -0.218891\n",
       "卡爾瑪          1.385647    1.505641\n",
       "年化收益/平均回撤    8.060546    2.935929"
      ]
     },
     "execution_count": 8,
     "metadata": {},
     "output_type": "execute_result"
    },
    {
     "data": {
      "image/png": "[encoded data removed]",
      "text/plain": [
       "<Figure size 648x648 with 4 Axes>"
      ]
     },
     "metadata": {
      "needs_background": "light"
     },
     "output_type": "display_data"
    }
   ],
   "source": [
    "analyze_risk_position_weekly(holdings, show_details=True)\n",
    "# analyze_risk_position_weekly(holdings)"
   ]
  }
 ],
 "metadata": {
  "kernelspec": {
   "display_name": "rapids-12.12",
   "language": "python",
   "name": "rapids-12.12"
  },
  "language_info": {
   "codemirror_mode": {
    "name": "ipython",
    "version": 3
   },
   "file_extension": ".py",
   "mimetype": "text/x-python",
   "name": "python",
   "nbconvert_exporter": "python",
   "pygments_lexer": "ipython3",
   "version": "3.8.15"
  }
 },
 "nbformat": 4,
 "nbformat_minor": 5
}
